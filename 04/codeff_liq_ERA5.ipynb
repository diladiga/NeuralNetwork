{
 "cells": [
  {
   "cell_type": "code",
   "execution_count": 1,
   "id": "b4f2dfb4",
   "metadata": {},
   "outputs": [
    {
     "name": "stdout",
     "output_type": "stream",
     "text": [
      "Using Python  = 3.8.8\n"
     ]
    }
   ],
   "source": [
    "## general libraries \n",
    "import os,sys,glob\n",
    "import numpy as np\n",
    "import pandas as pd\n",
    "import xarray as xr\n",
    "import h5py\n",
    "\n",
    "# for plots\n",
    "%matplotlib inline\n",
    "import matplotlib.pyplot as plt\n",
    "import seaborn as sns\n",
    "plt.style.use('seaborn-whitegrid')\n",
    "\n",
    "print(f'Using Python  = {sys.version.split()[0]}')"
   ]
  },
  {
   "cell_type": "code",
   "execution_count": 2,
   "id": "f2ca7f18",
   "metadata": {},
   "outputs": [],
   "source": [
    "from itertools import chain"
   ]
  },
  {
   "cell_type": "markdown",
   "id": "ae192d59",
   "metadata": {},
   "source": [
    "#### We will use the following coordinates:\n",
    "- latitude = 84\n",
    "- longitude = 17.5"
   ]
  },
  {
   "cell_type": "markdown",
   "id": "21f4fce2",
   "metadata": {},
   "source": [
    "##### Upload datasets "
   ]
  },
  {
   "cell_type": "code",
   "execution_count": 3,
   "id": "04b75643",
   "metadata": {},
   "outputs": [],
   "source": [
    "path = '//storage/ddiaz/2023/myProject/data/'\n",
    "file_sl = 'era5_monthly_avg_sl_2005-2020_tisr_tciw_tclw_tcwv_hcc_mcc_lcc_sp_tco3_fal_tsr.nc'\n",
    "file_pl= 'era5_monthly_avg_pl_2015-2020_cc_ciwc_clwc.nc'"
   ]
  },
  {
   "cell_type": "code",
   "execution_count": 4,
   "id": "d6490a98",
   "metadata": {},
   "outputs": [],
   "source": [
    "xrr_pl = xr.open_dataset(path+file_pl)\n",
    "\n",
    "xrr_pl_even = xrr_pl.sel(time = ['2016','2018','2020'])"
   ]
  },
  {
   "cell_type": "code",
   "execution_count": 5,
   "id": "e13163bc",
   "metadata": {},
   "outputs": [],
   "source": [
    "p = xrr_pl.level.values"
   ]
  },
  {
   "cell_type": "code",
   "execution_count": 6,
   "id": "62fbf123",
   "metadata": {},
   "outputs": [
    {
     "data": {
      "text/plain": [
       "array([  50,  150,  250,  350,  450,  550,  650,  750,  775,  800,  825,\n",
       "        850,  875,  900,  925,  950,  975, 1000], dtype=int32)"
      ]
     },
     "execution_count": 6,
     "metadata": {},
     "output_type": "execute_result"
    }
   ],
   "source": [
    "p"
   ]
  },
  {
   "cell_type": "markdown",
   "id": "d036b778",
   "metadata": {},
   "source": [
    "#### pressure levels"
   ]
  },
  {
   "cell_type": "markdown",
   "id": "30f75ce4",
   "metadata": {},
   "source": [
    "cc = np.array(df_pl_train.cc)"
   ]
  },
  {
   "cell_type": "code",
   "execution_count": 7,
   "id": "7321ad8a",
   "metadata": {},
   "outputs": [],
   "source": [
    "dp = []\n",
    "for ii in np.arange(len(p)-1):\n",
    "    DP = p[ii+1]-p[ii]\n",
    "    dp.append(DP)"
   ]
  },
  {
   "cell_type": "code",
   "execution_count": 8,
   "id": "f1c1b2d2",
   "metadata": {},
   "outputs": [],
   "source": [
    "#We add one value to dP so every level of pressure has a dP value\n",
    "dp.insert(0,100)   "
   ]
  },
  {
   "cell_type": "code",
   "execution_count": 9,
   "id": "a91d0090",
   "metadata": {},
   "outputs": [
    {
     "data": {
      "text/plain": [
       "[100,\n",
       " 100,\n",
       " 100,\n",
       " 100,\n",
       " 100,\n",
       " 100,\n",
       " 100,\n",
       " 100,\n",
       " 25,\n",
       " 25,\n",
       " 25,\n",
       " 25,\n",
       " 25,\n",
       " 25,\n",
       " 25,\n",
       " 25,\n",
       " 25,\n",
       " 25]"
      ]
     },
     "execution_count": 9,
     "metadata": {},
     "output_type": "execute_result"
    }
   ],
   "source": [
    "dp"
   ]
  },
  {
   "cell_type": "markdown",
   "id": "bbd2dad6",
   "metadata": {},
   "source": [
    "#### Optical depth "
   ]
  },
  {
   "cell_type": "markdown",
   "id": "8fc13e72",
   "metadata": {},
   "source": [
    "$ \\tau_c = \\frac{3}{2} \\int   \\frac{\\rho q_l}{r_e}dz $"
   ]
  },
  {
   "cell_type": "code",
   "execution_count": 8,
   "id": "421552ee",
   "metadata": {},
   "outputs": [],
   "source": [
    "effradliq = 10\n",
    "effradice = 25\n",
    "H=9000"
   ]
  },
  {
   "cell_type": "code",
   "execution_count": 9,
   "id": "a8adc850",
   "metadata": {},
   "outputs": [],
   "source": [
    "data_arrays_liq = []\n",
    "\n",
    "for ii in np.arange(18):\n",
    "    P = p[ii]\n",
    "    DP = dp[ii]\n",
    "    xrr = xrr_pl.sel(level = P)\n",
    "    tauliq_c = (3/2) * (1*xrr.clwc/effradliq)*(DP/P*H)\n",
    "    data_arrays_liq.append(tauliq_c)"
   ]
  },
  {
   "cell_type": "code",
   "execution_count": 10,
   "id": "ab54bb2e",
   "metadata": {},
   "outputs": [],
   "source": [
    "xrr_tauliq = xr.concat(data_arrays_liq,dim='level')"
   ]
  },
  {
   "cell_type": "code",
   "execution_count": 11,
   "id": "d7a13840",
   "metadata": {},
   "outputs": [],
   "source": [
    "del data_arrays_liq"
   ]
  },
  {
   "cell_type": "code",
   "execution_count": 12,
   "id": "58c85a4f",
   "metadata": {},
   "outputs": [],
   "source": [
    "df_tauliq = xrr_tauliq.to_dataframe()"
   ]
  },
  {
   "cell_type": "code",
   "execution_count": 13,
   "id": "dca59a8c",
   "metadata": {},
   "outputs": [],
   "source": [
    "del xrr_tauliq"
   ]
  },
  {
   "cell_type": "code",
   "execution_count": 14,
   "id": "f5b2ad62",
   "metadata": {},
   "outputs": [],
   "source": [
    "df_tauliq.to_csv('tau_liq_3years.csv')"
   ]
  },
  {
   "cell_type": "code",
   "execution_count": null,
   "id": "5ea6ea79",
   "metadata": {},
   "outputs": [],
   "source": []
  },
  {
   "cell_type": "code",
   "execution_count": null,
   "id": "23544f4f",
   "metadata": {},
   "outputs": [],
   "source": []
  },
  {
   "cell_type": "code",
   "execution_count": null,
   "id": "afc4d936",
   "metadata": {},
   "outputs": [],
   "source": []
  },
  {
   "cell_type": "code",
   "execution_count": 45,
   "id": "cf10df1f",
   "metadata": {},
   "outputs": [],
   "source": [
    "eff_tau_liq = TAUliq_c* prtrbd_fluxes.cc\n",
    "eff_tau_ice = TAUice_c* prtrbd_fluxes.cc"
   ]
  },
  {
   "cell_type": "code",
   "execution_count": 48,
   "id": "84533717",
   "metadata": {},
   "outputs": [],
   "source": [
    "prtrbd_fluxes['tau_liq'] = TAUliq_c \n",
    "prtrbd_fluxes['tau_ice'] = TAUice_c\n",
    "prtrbd_fluxes['eff_tau_liq'] = eff_tau_liq\n",
    "prtrbd_fluxes['eff_tau_ice'] = eff_tau_ice\n",
    "prtrbd_fluxes['cwp'] = cwp_prtrbd"
   ]
  },
  {
   "cell_type": "code",
   "execution_count": 77,
   "id": "6ed3050c",
   "metadata": {},
   "outputs": [],
   "source": [
    "prtrbd_fluxes.to_csv('data.csv', index=False)"
   ]
  }
 ],
 "metadata": {
  "kernelspec": {
   "display_name": "Python 3",
   "language": "python",
   "name": "python3"
  },
  "language_info": {
   "codemirror_mode": {
    "name": "ipython",
    "version": 3
   },
   "file_extension": ".py",
   "mimetype": "text/x-python",
   "name": "python",
   "nbconvert_exporter": "python",
   "pygments_lexer": "ipython3",
   "version": "3.8.8"
  }
 },
 "nbformat": 4,
 "nbformat_minor": 5
}
