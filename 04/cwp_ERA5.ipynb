{
 "cells": [
  {
   "cell_type": "code",
   "execution_count": 1,
   "id": "b4f2dfb4",
   "metadata": {},
   "outputs": [
    {
     "name": "stdout",
     "output_type": "stream",
     "text": [
      "Using Python  = 3.8.8\n"
     ]
    }
   ],
   "source": [
    "## general libraries \n",
    "import os,sys,glob\n",
    "import numpy as np\n",
    "import pandas as pd\n",
    "import xarray as xr\n",
    "import h5py\n",
    "\n",
    "# for plots\n",
    "%matplotlib inline\n",
    "import matplotlib.pyplot as plt\n",
    "import seaborn as sns\n",
    "plt.style.use('seaborn-whitegrid')\n",
    "\n",
    "print(f'Using Python  = {sys.version.split()[0]}')"
   ]
  },
  {
   "cell_type": "code",
   "execution_count": 2,
   "id": "f2ca7f18",
   "metadata": {},
   "outputs": [],
   "source": [
    "from itertools import chain"
   ]
  },
  {
   "cell_type": "markdown",
   "id": "ae192d59",
   "metadata": {},
   "source": [
    "#### We will use the following coordinates:\n",
    "- latitude = 84\n",
    "- longitude = 17.5"
   ]
  },
  {
   "cell_type": "markdown",
   "id": "21f4fce2",
   "metadata": {},
   "source": [
    "##### Upload datasets "
   ]
  },
  {
   "cell_type": "code",
   "execution_count": 3,
   "id": "04b75643",
   "metadata": {},
   "outputs": [],
   "source": [
    "path = '//storage/ddiaz/2023/myProject/data/'\n",
    "file_sl = 'era5_monthly_avg_sl_2005-2020_tisr_tciw_tclw_tcwv_hcc_mcc_lcc_sp_tco3_fal_tsr.nc'\n",
    "file_pl= 'era5_monthly_avg_pl_2015-2020_cc_ciwc_clwc.nc'"
   ]
  },
  {
   "cell_type": "code",
   "execution_count": 4,
   "id": "6f93969b",
   "metadata": {},
   "outputs": [],
   "source": [
    "xrr_sl = xr.open_dataset(path+file_sl)\n",
    "\n",
    "xrr_sl_odd = xrr_sl.sel(time = ['2015','2017','2019'])\n",
    "# even years for training\n",
    "xrr_sl_even = xrr_sl.sel(time = ['2016','2018','2020'])"
   ]
  },
  {
   "cell_type": "code",
   "execution_count": 5,
   "id": "a98ff179",
   "metadata": {},
   "outputs": [],
   "source": [
    "df_sl_train = xrr_sl_even.to_dataframe()\n",
    "#df_sl_test = xrr_sl_odd.to_dataframe()"
   ]
  },
  {
   "cell_type": "code",
   "execution_count": 6,
   "id": "86a62433",
   "metadata": {},
   "outputs": [],
   "source": [
    "#To convert to W m-2 , the accumulated values should be divided by the accumulation period expressed in seconds\n",
    "df_sl_train.tisr = df_sl_train.tisr/24/3600\n",
    "df_sl_train.tsr =df_sl_train.tsr/24/3600\n",
    "\n",
    "#df_sl_test.tisr = df_sl_test.tisr/24/3600\n",
    "#df_sl_test.tsr =df_sl_test.tsr/24/3600"
   ]
  },
  {
   "cell_type": "code",
   "execution_count": 7,
   "id": "d6490a98",
   "metadata": {},
   "outputs": [],
   "source": [
    "xrr_pl = xr.open_dataset(path+file_pl)\n",
    "\n",
    "#xrr_pl_odd = xrr_pl.sel(time = ['2015','2017','2019'])\n",
    "xrr_pl_even = xrr_pl.sel(time = ['2016','2018','2020'])"
   ]
  },
  {
   "cell_type": "code",
   "execution_count": 8,
   "id": "f100e67d",
   "metadata": {},
   "outputs": [],
   "source": [
    "df_pl_train = xrr_pl_even.to_dataframe()\n",
    "#df_pl_test = xrr_pl_odd.to_dataframe()"
   ]
  },
  {
   "cell_type": "markdown",
   "id": "6ad81c36",
   "metadata": {},
   "source": [
    "### Variables"
   ]
  },
  {
   "cell_type": "code",
   "execution_count": 9,
   "id": "bafffd35",
   "metadata": {},
   "outputs": [],
   "source": [
    "ciwc_train = np.array(df_pl_train.ciwc) #kg kg-1\n",
    "clwc_train = np.array(df_pl_train.clwc) #kg kg-1"
   ]
  },
  {
   "cell_type": "markdown",
   "id": "4889bee8",
   "metadata": {},
   "source": [
    "#### single levels"
   ]
  },
  {
   "cell_type": "code",
   "execution_count": 10,
   "id": "e13163bc",
   "metadata": {},
   "outputs": [],
   "source": [
    "p = xrr_pl.level.values"
   ]
  },
  {
   "cell_type": "markdown",
   "id": "d036b778",
   "metadata": {},
   "source": [
    "#### pressure levels"
   ]
  },
  {
   "cell_type": "code",
   "execution_count": 11,
   "id": "f3e76fd0",
   "metadata": {},
   "outputs": [],
   "source": [
    "cc = np.array(df_pl_train.cc)"
   ]
  },
  {
   "cell_type": "code",
   "execution_count": 12,
   "id": "7321ad8a",
   "metadata": {},
   "outputs": [],
   "source": [
    "dp = []\n",
    "for ii in np.arange(len(p)-1):\n",
    "    DP = p[ii+1]-p[ii]\n",
    "    dp.append(DP)"
   ]
  },
  {
   "cell_type": "code",
   "execution_count": 13,
   "id": "f1c1b2d2",
   "metadata": {},
   "outputs": [],
   "source": [
    "#We add one value to dP so every level of pressure has a dP value\n",
    "dp.insert(0,100)   "
   ]
  },
  {
   "cell_type": "code",
   "execution_count": 14,
   "id": "9c310007",
   "metadata": {},
   "outputs": [],
   "source": [
    "g=9.8"
   ]
  },
  {
   "cell_type": "code",
   "execution_count": 15,
   "id": "e43f1325",
   "metadata": {},
   "outputs": [],
   "source": [
    "data_arrays = []\n",
    "for ii in np.arange(18):\n",
    "    pL = p[ii]\n",
    "    DP = dp[ii]\n",
    "    xrr = xrr_pl.sel(level = pL)\n",
    "    cwp =100*1000*(xrr.ciwc+xrr.clwc)*DP/g #g/m2\n",
    "    data_arrays.append(cwp)"
   ]
  },
  {
   "cell_type": "code",
   "execution_count": 16,
   "id": "d915e70a",
   "metadata": {},
   "outputs": [],
   "source": [
    "xrr_cwp = xr.concat(data_arrays,dim='level')#xrr_cwp.combine(cwp)"
   ]
  },
  {
   "cell_type": "markdown",
   "id": "93680fee",
   "metadata": {},
   "source": [
    "##### Total cloud water path (CWP)"
   ]
  },
  {
   "cell_type": "markdown",
   "id": "e8cc3622",
   "metadata": {},
   "source": [
    "tot_cwp = (lambda ii:sum(ii))(cwp[0])\n",
    "tot_cwp #g/m2"
   ]
  },
  {
   "cell_type": "code",
   "execution_count": null,
   "id": "162f88cc",
   "metadata": {},
   "outputs": [],
   "source": []
  }
 ],
 "metadata": {
  "kernelspec": {
   "display_name": "Python 3",
   "language": "python",
   "name": "python3"
  },
  "language_info": {
   "codemirror_mode": {
    "name": "ipython",
    "version": 3
   },
   "file_extension": ".py",
   "mimetype": "text/x-python",
   "name": "python",
   "nbconvert_exporter": "python",
   "pygments_lexer": "ipython3",
   "version": "3.8.8"
  }
 },
 "nbformat": 4,
 "nbformat_minor": 5
}
